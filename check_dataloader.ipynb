{
 "cells": [
  {
   "cell_type": "code",
   "execution_count": 1,
   "metadata": {},
   "outputs": [],
   "source": [
    "from mmseg.datasets import DynamicEarthNet\n",
    "from mmengine.registry import init_default_scope\n",
    "init_default_scope('mmseg')\n",
    "\n",
    "data_root = '/home/Hung_Data/HungData/mmseg_data/Datasets/DynamicEarthNet/data_monthly'\n",
    "data_prefix=dict(img_path='planet', seg_map_path='labels')"
   ]
  },
  {
   "cell_type": "code",
   "execution_count": 2,
   "metadata": {},
   "outputs": [],
   "source": [
    "train_pipeline = [\n",
    "    dict(type='LoadImageFromFile'),\n",
    "    dict(type='LoadAnnotations'),\n",
    "    dict(type='RandomCrop', crop_size=(512, 1024), cat_max_ratio=0.75),\n",
    "    dict(type='RandomFlip', prob=0.5),\n",
    "    dict(type='PackSegInputs')\n",
    "]\n",
    "\n",
    "dataset = DynamicEarthNet(data_root=data_root, data_prefix=data_prefix,img_suffix='.tif', seg_map_suffix='.tif',test_mode=False, pipeline=train_pipeline)"
   ]
  },
  {
   "cell_type": "code",
   "execution_count": 3,
   "metadata": {},
   "outputs": [
    {
     "name": "stdout",
     "output_type": "stream",
     "text": [
      "1272\n"
     ]
    }
   ],
   "source": [
    "print(len(dataset))"
   ]
  },
  {
   "cell_type": "code",
   "execution_count": 4,
   "metadata": {},
   "outputs": [
    {
     "name": "stdout",
     "output_type": "stream",
     "text": [
      "{'img_path': '/home/Hung_Data/HungData/mmseg_data/Datasets/DynamicEarthNet/data_monthly/planet/10N_23E-188N_1311_3077_13_PF-SR_2018-01-01.tif', 'seg_map_path': '/home/Hung_Data/HungData/mmseg_data/Datasets/DynamicEarthNet/data_monthly/labels/10N_23E-188N_1311_3077_13_PF-SR_2018-01-01.tif', 'label_map': None, 'reduce_zero_label': False, 'seg_fields': [], 'sample_idx': 0}\n"
     ]
    }
   ],
   "source": [
    "print(dataset.get_data_info(0))"
   ]
  },
  {
   "cell_type": "code",
   "execution_count": 5,
   "metadata": {},
   "outputs": [
    {
     "name": "stdout",
     "output_type": "stream",
     "text": [
      "{'classes': ('impervious surface', 'agriculture', 'forest & other', 'wetland', 'soil', 'water'), 'palette': [[96, 96, 96], [204, 204, 0], [0, 204, 0], [0, 0, 153], [153, 76, 0], [0, 128, 255]], 'label_map': None, 'reduce_zero_label': False}\n"
     ]
    }
   ],
   "source": [
    "print(dataset.metainfo)"
   ]
  },
  {
   "cell_type": "code",
   "execution_count": 6,
   "metadata": {},
   "outputs": [
    {
     "ename": "UnidentifiedImageError",
     "evalue": "cannot identify image file <_io.BytesIO object at 0x7f9bae9db7c0>",
     "output_type": "error",
     "traceback": [
      "\u001b[0;31m---------------------------------------------------------------------------\u001b[0m",
      "\u001b[0;31mUnidentifiedImageError\u001b[0m                    Traceback (most recent call last)",
      "\u001b[1;32m/home/Hung_Data/HungData/mmseg_data/mod_mmseg/check_dataloader.ipynb Cell 6\u001b[0m in \u001b[0;36m<cell line: 1>\u001b[0;34m()\u001b[0m\n\u001b[0;32m----> <a href='vscode-notebook-cell://ssh-remote%2Bacmserver/home/Hung_Data/HungData/mmseg_data/mod_mmseg/check_dataloader.ipynb#W5sdnNjb2RlLXJlbW90ZQ%3D%3D?line=0'>1</a>\u001b[0m \u001b[39mprint\u001b[39m(dataset[\u001b[39m0\u001b[39;49m])\n",
      "File \u001b[0;32m~/miniconda3/envs/mmseg/lib/python3.8/site-packages/mmengine/dataset/base_dataset.py:413\u001b[0m, in \u001b[0;36mBaseDataset.__getitem__\u001b[0;34m(self, idx)\u001b[0m\n\u001b[1;32m    410\u001b[0m     \u001b[39mreturn\u001b[39;00m data\n\u001b[1;32m    412\u001b[0m \u001b[39mfor\u001b[39;00m _ \u001b[39min\u001b[39;00m \u001b[39mrange\u001b[39m(\u001b[39mself\u001b[39m\u001b[39m.\u001b[39mmax_refetch \u001b[39m+\u001b[39m \u001b[39m1\u001b[39m):\n\u001b[0;32m--> 413\u001b[0m     data \u001b[39m=\u001b[39m \u001b[39mself\u001b[39;49m\u001b[39m.\u001b[39;49mprepare_data(idx)\n\u001b[1;32m    414\u001b[0m     \u001b[39m# Broken images or random augmentations may cause the returned data\u001b[39;00m\n\u001b[1;32m    415\u001b[0m     \u001b[39m# to be None\u001b[39;00m\n\u001b[1;32m    416\u001b[0m     \u001b[39mif\u001b[39;00m data \u001b[39mis\u001b[39;00m \u001b[39mNone\u001b[39;00m:\n",
      "File \u001b[0;32m~/miniconda3/envs/mmseg/lib/python3.8/site-packages/mmengine/dataset/base_dataset.py:797\u001b[0m, in \u001b[0;36mBaseDataset.prepare_data\u001b[0;34m(self, idx)\u001b[0m\n\u001b[1;32m    788\u001b[0m \u001b[39m\u001b[39m\u001b[39m\"\"\"Get data processed by ``self.pipeline``.\u001b[39;00m\n\u001b[1;32m    789\u001b[0m \n\u001b[1;32m    790\u001b[0m \u001b[39mArgs:\u001b[39;00m\n\u001b[0;32m   (...)\u001b[0m\n\u001b[1;32m    794\u001b[0m \u001b[39m    Any: Depends on ``self.pipeline``.\u001b[39;00m\n\u001b[1;32m    795\u001b[0m \u001b[39m\"\"\"\u001b[39;00m\n\u001b[1;32m    796\u001b[0m data_info \u001b[39m=\u001b[39m \u001b[39mself\u001b[39m\u001b[39m.\u001b[39mget_data_info(idx)\n\u001b[0;32m--> 797\u001b[0m \u001b[39mreturn\u001b[39;00m \u001b[39mself\u001b[39;49m\u001b[39m.\u001b[39;49mpipeline(data_info)\n",
      "File \u001b[0;32m~/miniconda3/envs/mmseg/lib/python3.8/site-packages/mmengine/dataset/base_dataset.py:59\u001b[0m, in \u001b[0;36mCompose.__call__\u001b[0;34m(self, data)\u001b[0m\n\u001b[1;32m     50\u001b[0m \u001b[39m\u001b[39m\u001b[39m\"\"\"Call function to apply transforms sequentially.\u001b[39;00m\n\u001b[1;32m     51\u001b[0m \n\u001b[1;32m     52\u001b[0m \u001b[39mArgs:\u001b[39;00m\n\u001b[0;32m   (...)\u001b[0m\n\u001b[1;32m     56\u001b[0m \u001b[39m   dict: Transformed data.\u001b[39;00m\n\u001b[1;32m     57\u001b[0m \u001b[39m\"\"\"\u001b[39;00m\n\u001b[1;32m     58\u001b[0m \u001b[39mfor\u001b[39;00m t \u001b[39min\u001b[39;00m \u001b[39mself\u001b[39m\u001b[39m.\u001b[39mtransforms:\n\u001b[0;32m---> 59\u001b[0m     data \u001b[39m=\u001b[39m t(data)\n\u001b[1;32m     60\u001b[0m     \u001b[39m# The transform will return None when it failed to load images or\u001b[39;00m\n\u001b[1;32m     61\u001b[0m     \u001b[39m# cannot find suitable augmentation parameters to augment the data.\u001b[39;00m\n\u001b[1;32m     62\u001b[0m     \u001b[39m# Here we simply return None if the transform returns None and the\u001b[39;00m\n\u001b[1;32m     63\u001b[0m     \u001b[39m# dataset will handle it by randomly selecting another data sample.\u001b[39;00m\n\u001b[1;32m     64\u001b[0m     \u001b[39mif\u001b[39;00m data \u001b[39mis\u001b[39;00m \u001b[39mNone\u001b[39;00m:\n",
      "File \u001b[0;32m~/miniconda3/envs/mmseg/lib/python3.8/site-packages/mmcv/transforms/base.py:12\u001b[0m, in \u001b[0;36mBaseTransform.__call__\u001b[0;34m(self, results)\u001b[0m\n\u001b[1;32m      9\u001b[0m \u001b[39mdef\u001b[39;00m \u001b[39m__call__\u001b[39m(\u001b[39mself\u001b[39m,\n\u001b[1;32m     10\u001b[0m              results: Dict) \u001b[39m-\u001b[39m\u001b[39m>\u001b[39m Optional[Union[Dict, Tuple[List, List]]]:\n\u001b[0;32m---> 12\u001b[0m     \u001b[39mreturn\u001b[39;00m \u001b[39mself\u001b[39;49m\u001b[39m.\u001b[39;49mtransform(results)\n",
      "File \u001b[0;32m~/miniconda3/envs/mmseg/lib/python3.8/site-packages/mmcv/transforms/loading.py:342\u001b[0m, in \u001b[0;36mLoadAnnotations.transform\u001b[0;34m(self, results)\u001b[0m\n\u001b[1;32m    340\u001b[0m     \u001b[39mself\u001b[39m\u001b[39m.\u001b[39m_load_labels(results)\n\u001b[1;32m    341\u001b[0m \u001b[39mif\u001b[39;00m \u001b[39mself\u001b[39m\u001b[39m.\u001b[39mwith_seg:\n\u001b[0;32m--> 342\u001b[0m     \u001b[39mself\u001b[39;49m\u001b[39m.\u001b[39;49m_load_seg_map(results)\n\u001b[1;32m    343\u001b[0m \u001b[39mif\u001b[39;00m \u001b[39mself\u001b[39m\u001b[39m.\u001b[39mwith_keypoints:\n\u001b[1;32m    344\u001b[0m     \u001b[39mself\u001b[39m\u001b[39m.\u001b[39m_load_kps(results)\n",
      "File \u001b[0;32m/home/Hung_Data/HungData/mmseg_data/mod_mmseg/mmseg/datasets/transforms/loading.py:96\u001b[0m, in \u001b[0;36mLoadAnnotations._load_seg_map\u001b[0;34m(self, results)\u001b[0m\n\u001b[1;32m     85\u001b[0m \u001b[39m\u001b[39m\u001b[39m\"\"\"Private function to load semantic segmentation annotations.\u001b[39;00m\n\u001b[1;32m     86\u001b[0m \n\u001b[1;32m     87\u001b[0m \u001b[39mArgs:\u001b[39;00m\n\u001b[0;32m   (...)\u001b[0m\n\u001b[1;32m     91\u001b[0m \u001b[39m    dict: The dict contains loaded semantic segmentation annotations.\u001b[39;00m\n\u001b[1;32m     92\u001b[0m \u001b[39m\"\"\"\u001b[39;00m\n\u001b[1;32m     94\u001b[0m img_bytes \u001b[39m=\u001b[39m fileio\u001b[39m.\u001b[39mget(\n\u001b[1;32m     95\u001b[0m     results[\u001b[39m'\u001b[39m\u001b[39mseg_map_path\u001b[39m\u001b[39m'\u001b[39m], backend_args\u001b[39m=\u001b[39m\u001b[39mself\u001b[39m\u001b[39m.\u001b[39mbackend_args)\n\u001b[0;32m---> 96\u001b[0m gt_semantic_seg \u001b[39m=\u001b[39m mmcv\u001b[39m.\u001b[39;49mimfrombytes(\n\u001b[1;32m     97\u001b[0m     img_bytes, flag\u001b[39m=\u001b[39;49m\u001b[39m'\u001b[39;49m\u001b[39munchanged\u001b[39;49m\u001b[39m'\u001b[39;49m,\n\u001b[1;32m     98\u001b[0m     backend\u001b[39m=\u001b[39;49m\u001b[39mself\u001b[39;49m\u001b[39m.\u001b[39;49mimdecode_backend)\u001b[39m.\u001b[39msqueeze()\u001b[39m.\u001b[39mastype(np\u001b[39m.\u001b[39muint8)\n\u001b[1;32m    100\u001b[0m \u001b[39m# reduce zero_label\u001b[39;00m\n\u001b[1;32m    101\u001b[0m \u001b[39mif\u001b[39;00m \u001b[39mself\u001b[39m\u001b[39m.\u001b[39mreduce_zero_label \u001b[39mis\u001b[39;00m \u001b[39mNone\u001b[39;00m:\n",
      "File \u001b[0;32m~/miniconda3/envs/mmseg/lib/python3.8/site-packages/mmcv/image/io.py:275\u001b[0m, in \u001b[0;36mimfrombytes\u001b[0;34m(content, flag, channel_order, backend)\u001b[0m\n\u001b[1;32m    273\u001b[0m \u001b[39melif\u001b[39;00m backend \u001b[39m==\u001b[39m \u001b[39m'\u001b[39m\u001b[39mpillow\u001b[39m\u001b[39m'\u001b[39m:\n\u001b[1;32m    274\u001b[0m     \u001b[39mwith\u001b[39;00m io\u001b[39m.\u001b[39mBytesIO(content) \u001b[39mas\u001b[39;00m buff:\n\u001b[0;32m--> 275\u001b[0m         img \u001b[39m=\u001b[39m Image\u001b[39m.\u001b[39;49mopen(buff)\n\u001b[1;32m    276\u001b[0m         img \u001b[39m=\u001b[39m _pillow2array(img, flag, channel_order)\n\u001b[1;32m    277\u001b[0m     \u001b[39mreturn\u001b[39;00m img\n",
      "File \u001b[0;32m~/.local/lib/python3.8/site-packages/PIL/Image.py:3008\u001b[0m, in \u001b[0;36mopen\u001b[0;34m(fp, mode, formats)\u001b[0m\n\u001b[1;32m   3006\u001b[0m \u001b[39mfor\u001b[39;00m message \u001b[39min\u001b[39;00m accept_warnings:\n\u001b[1;32m   3007\u001b[0m     warnings\u001b[39m.\u001b[39mwarn(message)\n\u001b[0;32m-> 3008\u001b[0m \u001b[39mraise\u001b[39;00m UnidentifiedImageError(\n\u001b[1;32m   3009\u001b[0m     \u001b[39m\"\u001b[39m\u001b[39mcannot identify image file \u001b[39m\u001b[39m%r\u001b[39;00m\u001b[39m\"\u001b[39m \u001b[39m%\u001b[39m (filename \u001b[39mif\u001b[39;00m filename \u001b[39melse\u001b[39;00m fp)\n\u001b[1;32m   3010\u001b[0m )\n",
      "\u001b[0;31mUnidentifiedImageError\u001b[0m: cannot identify image file <_io.BytesIO object at 0x7f9bae9db7c0>"
     ]
    }
   ],
   "source": [
    "print(dataset[0])"
   ]
  },
  {
   "cell_type": "code",
   "execution_count": null,
   "metadata": {},
   "outputs": [],
   "source": []
  }
 ],
 "metadata": {
  "kernelspec": {
   "display_name": "mmseg",
   "language": "python",
   "name": "python3"
  },
  "language_info": {
   "codemirror_mode": {
    "name": "ipython",
    "version": 3
   },
   "file_extension": ".py",
   "mimetype": "text/x-python",
   "name": "python",
   "nbconvert_exporter": "python",
   "pygments_lexer": "ipython3",
   "version": "3.8.16"
  },
  "orig_nbformat": 4
 },
 "nbformat": 4,
 "nbformat_minor": 2
}

{
 "cells": [
  {
   "cell_type": "code",
   "execution_count": 30,
   "metadata": {},
   "outputs": [],
   "source": [
    "from mmseg.datasets import DynamicEarthNet\n",
    "from mmengine.registry import init_default_scope\n",
    "init_default_scope('mmseg')\n",
    "\n",
    "data_root = '/home/Hung_Data/HungData/mmseg_data/Datasets/DynamicEarthNet/data_monthly'\n",
    "data_prefix=dict(img_path='planet', seg_map_path='labels')"
   ]
  },
  {
   "cell_type": "code",
   "execution_count": 31,
   "metadata": {},
   "outputs": [],
   "source": [
    "train_pipeline = [\n",
    "    dict(type='LoadImageFromFile'),\n",
    "    dict(type='LoadAnnotations'),\n",
    "    dict(type='RandomCrop', crop_size=(512, 1024), cat_max_ratio=0.75),\n",
    "    dict(type='RandomFlip', prob=0.5),\n",
    "    dict(type='PackSegInputs')\n",
    "]\n",
    "\n",
    "dataset = DynamicEarthNet(data_root=data_root, data_prefix=data_prefix,img_suffix='.tif', seg_map_suffix='.png',test_mode=False, pipeline=train_pipeline)"
   ]
  },
  {
   "cell_type": "code",
   "execution_count": 32,
   "metadata": {},
   "outputs": [
    {
     "name": "stdout",
     "output_type": "stream",
     "text": [
      "1272\n"
     ]
    }
   ],
   "source": [
    "print(len(dataset))"
   ]
  },
  {
   "cell_type": "code",
   "execution_count": 33,
   "metadata": {},
   "outputs": [
    {
     "name": "stdout",
     "output_type": "stream",
     "text": [
      "{'img_path': '/home/Hung_Data/HungData/mmseg_data/Datasets/DynamicEarthNet/data_monthly/planet/10N_23E-188N_1311_3077_13_PF-SR_2018-01-01.tif', 'seg_map_path': '/home/Hung_Data/HungData/mmseg_data/Datasets/DynamicEarthNet/data_monthly/labels/10N_23E-188N_1311_3077_13_PF-SR_2018-01-01.png', 'label_map': None, 'reduce_zero_label': False, 'seg_fields': [], 'sample_idx': 0}\n"
     ]
    }
   ],
   "source": [
    "print(dataset.get_data_info(0))"
   ]
  },
  {
   "cell_type": "code",
   "execution_count": 34,
   "metadata": {},
   "outputs": [
    {
     "name": "stdout",
     "output_type": "stream",
     "text": [
      "{'classes': ('impervious surface', 'agriculture', 'forest & other', 'wetland', 'soil', 'water'), 'palette': [[96, 96, 96], [204, 204, 0], [0, 204, 0], [0, 0, 153], [153, 76, 0], [0, 128, 255]], 'label_map': None, 'reduce_zero_label': False}\n"
     ]
    }
   ],
   "source": [
    "print(dataset.metainfo)"
   ]
  },
  {
   "cell_type": "code",
   "execution_count": 35,
   "metadata": {},
   "outputs": [
    {
     "name": "stdout",
     "output_type": "stream",
     "text": [
      "{'inputs': tensor([[[0, 0, 0,  ..., 0, 0, 0],\n",
      "         [0, 0, 0,  ..., 0, 0, 0],\n",
      "         [0, 0, 0,  ..., 0, 0, 0],\n",
      "         ...,\n",
      "         [0, 0, 0,  ..., 0, 0, 0],\n",
      "         [0, 0, 0,  ..., 0, 0, 0],\n",
      "         [0, 0, 0,  ..., 0, 0, 0]],\n",
      "\n",
      "        [[0, 0, 0,  ..., 0, 0, 0],\n",
      "         [0, 0, 0,  ..., 0, 0, 0],\n",
      "         [0, 0, 0,  ..., 0, 0, 0],\n",
      "         ...,\n",
      "         [0, 0, 0,  ..., 0, 0, 0],\n",
      "         [0, 0, 0,  ..., 0, 0, 0],\n",
      "         [0, 0, 0,  ..., 0, 0, 0]],\n",
      "\n",
      "        [[0, 0, 0,  ..., 0, 0, 0],\n",
      "         [0, 0, 0,  ..., 0, 0, 0],\n",
      "         [0, 0, 0,  ..., 0, 0, 0],\n",
      "         ...,\n",
      "         [0, 0, 0,  ..., 0, 0, 0],\n",
      "         [0, 0, 0,  ..., 0, 0, 0],\n",
      "         [0, 0, 0,  ..., 0, 0, 0]]], dtype=torch.uint8), 'data_samples': <SegDataSample(\n",
      "\n",
      "    META INFORMATION\n",
      "    seg_map_path: '/home/Hung_Data/HungData/mmseg_data/Datasets/DynamicEarthNet/data_monthly/labels/10N_23E-188N_1311_3077_13_PF-SR_2018-01-01.png'\n",
      "    ori_shape: (1024, 1024)\n",
      "    reduce_zero_label: False\n",
      "    img_shape: (512, 1024)\n",
      "    flip_direction: 'horizontal'\n",
      "    flip: True\n",
      "    img_path: '/home/Hung_Data/HungData/mmseg_data/Datasets/DynamicEarthNet/data_monthly/planet/10N_23E-188N_1311_3077_13_PF-SR_2018-01-01.tif'\n",
      "\n",
      "    DATA FIELDS\n",
      "    gt_sem_seg: <PixelData(\n",
      "        \n",
      "            META INFORMATION\n",
      "        \n",
      "            DATA FIELDS\n",
      "            data: tensor([[[  0, 204,   0],\n",
      "                         [  0, 204,   0],\n",
      "                         [  0, 204,   0],\n",
      "                         ...,\n",
      "                         [  0, 128, 255],\n",
      "                         [  0, 128, 255],\n",
      "                         [  0, 128, 255]],\n",
      "                \n",
      "                        [[  0, 204,   0],\n",
      "                         [  0, 204,   0],\n",
      "                         [  0, 204,   0],\n",
      "                         ...,\n",
      "                         [  0, 128, 255],\n",
      "                         [  0, 128, 255],\n",
      "                         [  0, 128, 255]],\n",
      "                \n",
      "                        [[  0, 204,   0],\n",
      "                         [  0, 204,   0],\n",
      "                         [  0, 204,   0],\n",
      "                         ...,\n",
      "                         [  0, 128, 255],\n",
      "                         [  0, 128, 255],\n",
      "                         [  0, 128, 255]],\n",
      "                \n",
      "                        ...,\n",
      "                \n",
      "                        [[  0, 204,   0],\n",
      "                         [  0, 204,   0],\n",
      "                         [  0, 204,   0],\n",
      "                         ...,\n",
      "                         [  0, 128, 255],\n",
      "                         [  0, 128, 255],\n",
      "                         [  0, 128, 255]],\n",
      "                \n",
      "                        [[  0, 204,   0],\n",
      "                         [  0, 204,   0],\n",
      "                         [  0, 204,   0],\n",
      "                         ...,\n",
      "                         [  0, 128, 255],\n",
      "                         [  0, 128, 255],\n",
      "                         [  0, 128, 255]],\n",
      "                \n",
      "                        [[  0, 204,   0],\n",
      "                         [  0, 204,   0],\n",
      "                         [  0, 204,   0],\n",
      "                         ...,\n",
      "                         [  0, 128, 255],\n",
      "                         [  0, 128, 255],\n",
      "                         [  0, 128, 255]]])\n",
      "        ) at 0x7f9b326da880>\n",
      ") at 0x7f9b321dea30>}\n"
     ]
    }
   ],
   "source": [
    "print(dataset[0])"
   ]
  },
  {
   "cell_type": "code",
   "execution_count": null,
   "metadata": {},
   "outputs": [],
   "source": []
  },
  {
   "cell_type": "code",
   "execution_count": null,
   "metadata": {},
   "outputs": [],
   "source": []
  }
 ],
 "metadata": {
  "kernelspec": {
   "display_name": "mmseg",
   "language": "python",
   "name": "python3"
  },
  "language_info": {
   "codemirror_mode": {
    "name": "ipython",
    "version": 3
   },
   "file_extension": ".py",
   "mimetype": "text/x-python",
   "name": "python",
   "nbconvert_exporter": "python",
   "pygments_lexer": "ipython3",
   "version": "3.8.16"
  },
  "orig_nbformat": 4
 },
 "nbformat": 4,
 "nbformat_minor": 2
}
